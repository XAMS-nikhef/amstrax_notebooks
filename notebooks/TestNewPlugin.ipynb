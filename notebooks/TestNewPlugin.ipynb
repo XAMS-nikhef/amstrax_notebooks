{
 "cells": [
  {
   "cell_type": "code",
   "execution_count": 2,
   "id": "bbab4cc9",
   "metadata": {
    "ExecuteTime": {
     "end_time": "2022-01-13T11:33:01.593981Z",
     "start_time": "2022-01-13T11:33:01.470926Z"
    }
   },
   "outputs": [
    {
     "name": "stdout",
     "output_type": "stream",
     "text": [
      "/data/xenon/joranang/anaconda/envs/amstrax_2021/bin/python\r\n"
     ]
    }
   ],
   "source": [
    "import strax\n",
    "import straxen\n",
    "import amstrax\n",
    "import numpy as np\n",
    "import pandas as pd\n",
    "\n",
    "!which python"
   ]
  },
  {
   "cell_type": "markdown",
   "id": "1cb7910f",
   "metadata": {
    "ExecuteTime": {
     "start_time": "2022-01-13T11:32:48.267Z"
    }
   },
   "source": [
    "# Make a new PulseProcessingPlugin"
   ]
  },
  {
   "cell_type": "code",
   "execution_count": 3,
   "id": "7224c727",
   "metadata": {
    "ExecuteTime": {
     "end_time": "2022-01-13T11:33:15.343916Z",
     "start_time": "2022-01-13T11:33:14.973091Z"
    }
   },
   "outputs": [
    {
     "name": "stdout",
     "output_type": "stream",
     "text": [
      "[amstrax.rundb.RunDB, readonly: True, strax.storage.files.DataDirectory, readonly: True, path: /data/xenon/xamsl/raw/, take_only: ('raw_records_v1724', 'raw_records_v1730', 'raw_records_aqmon'), strax.storage.files.DataDirectory, readonly: True, path: /data/xenon/xamsl/processed/, strax.storage.files.DataDirectory, path: ./amstrax_data]\n"
     ]
    }
   ],
   "source": [
    "st = amstrax.contexts.xams_little()"
   ]
  },
  {
   "cell_type": "code",
   "execution_count": 5,
   "id": "c1315f15",
   "metadata": {
    "ExecuteTime": {
     "end_time": "2022-01-13T11:35:51.586778Z",
     "start_time": "2022-01-13T11:35:51.532215Z"
    }
   },
   "outputs": [
    {
     "data": {
      "text/html": [
       "<div>\n",
       "<style scoped>\n",
       "    .dataframe tbody tr th:only-of-type {\n",
       "        vertical-align: middle;\n",
       "    }\n",
       "\n",
       "    .dataframe tbody tr th {\n",
       "        vertical-align: top;\n",
       "    }\n",
       "\n",
       "    .dataframe thead th {\n",
       "        text-align: right;\n",
       "    }\n",
       "</style>\n",
       "<table border=\"1\" class=\"dataframe\">\n",
       "  <thead>\n",
       "    <tr style=\"text-align: right;\">\n",
       "      <th></th>\n",
       "      <th>name</th>\n",
       "      <th>number</th>\n",
       "      <th>mode</th>\n",
       "      <th>start</th>\n",
       "      <th>end</th>\n",
       "      <th>tags</th>\n",
       "      <th>livetime</th>\n",
       "      <th>processing_status</th>\n",
       "      <th>raw_records_v1730_available</th>\n",
       "    </tr>\n",
       "  </thead>\n",
       "  <tbody>\n",
       "    <tr>\n",
       "      <th>0</th>\n",
       "      <td>000000</td>\n",
       "      <td>0</td>\n",
       "      <td>V1724_Run0</td>\n",
       "      <td>2020-11-23 08:36:02.740</td>\n",
       "      <td>2020-11-23 08:36:50.846</td>\n",
       "      <td></td>\n",
       "      <td>0 days 00:00:48.106000</td>\n",
       "      <td>NaN</td>\n",
       "      <td>False</td>\n",
       "    </tr>\n",
       "    <tr>\n",
       "      <th>1</th>\n",
       "      <td>000001</td>\n",
       "      <td>1</td>\n",
       "      <td>V1724_Run0</td>\n",
       "      <td>2020-11-24 07:51:24.798</td>\n",
       "      <td>2020-11-24 07:51:36.827</td>\n",
       "      <td></td>\n",
       "      <td>0 days 00:00:12.029000</td>\n",
       "      <td>NaN</td>\n",
       "      <td>False</td>\n",
       "    </tr>\n",
       "    <tr>\n",
       "      <th>2</th>\n",
       "      <td>000002</td>\n",
       "      <td>2</td>\n",
       "      <td>V1724_Run0</td>\n",
       "      <td>2020-11-24 12:55:19.577</td>\n",
       "      <td>2020-11-24 12:55:28.594</td>\n",
       "      <td></td>\n",
       "      <td>0 days 00:00:09.017000</td>\n",
       "      <td>NaN</td>\n",
       "      <td>False</td>\n",
       "    </tr>\n",
       "    <tr>\n",
       "      <th>3</th>\n",
       "      <td>000003</td>\n",
       "      <td>3</td>\n",
       "      <td>V1724_Run0</td>\n",
       "      <td>2020-11-24 13:08:10.073</td>\n",
       "      <td>2020-11-24 13:08:19.093</td>\n",
       "      <td></td>\n",
       "      <td>0 days 00:00:09.020000</td>\n",
       "      <td>NaN</td>\n",
       "      <td>False</td>\n",
       "    </tr>\n",
       "    <tr>\n",
       "      <th>4</th>\n",
       "      <td>000004</td>\n",
       "      <td>4</td>\n",
       "      <td>V1730_Run3</td>\n",
       "      <td>2020-11-24 13:54:39.023</td>\n",
       "      <td>2020-11-24 13:55:00.072</td>\n",
       "      <td></td>\n",
       "      <td>0 days 00:00:21.049000</td>\n",
       "      <td>NaN</td>\n",
       "      <td>False</td>\n",
       "    </tr>\n",
       "    <tr>\n",
       "      <th>...</th>\n",
       "      <td>...</td>\n",
       "      <td>...</td>\n",
       "      <td>...</td>\n",
       "      <td>...</td>\n",
       "      <td>...</td>\n",
       "      <td>...</td>\n",
       "      <td>...</td>\n",
       "      <td>...</td>\n",
       "      <td>...</td>\n",
       "    </tr>\n",
       "    <tr>\n",
       "      <th>2569</th>\n",
       "      <td>002569</td>\n",
       "      <td>2569</td>\n",
       "      <td>test_run_two_digitizers</td>\n",
       "      <td>2021-12-16 13:01:03.553</td>\n",
       "      <td>2021-12-16 13:01:11.676</td>\n",
       "      <td></td>\n",
       "      <td>0 days 00:00:08.123000</td>\n",
       "      <td>NaN</td>\n",
       "      <td>False</td>\n",
       "    </tr>\n",
       "    <tr>\n",
       "      <th>2570</th>\n",
       "      <td>002570</td>\n",
       "      <td>2570</td>\n",
       "      <td>test_run_two_digitizers</td>\n",
       "      <td>2021-12-16 13:02:03.861</td>\n",
       "      <td>2021-12-16 13:02:11.974</td>\n",
       "      <td></td>\n",
       "      <td>0 days 00:00:08.113000</td>\n",
       "      <td>NaN</td>\n",
       "      <td>False</td>\n",
       "    </tr>\n",
       "    <tr>\n",
       "      <th>2571</th>\n",
       "      <td>002571</td>\n",
       "      <td>2571</td>\n",
       "      <td>test_run_two_digitizers</td>\n",
       "      <td>2021-12-16 13:03:04.114</td>\n",
       "      <td>2021-12-16 13:03:09.134</td>\n",
       "      <td></td>\n",
       "      <td>0 days 00:00:05.020000</td>\n",
       "      <td>NaN</td>\n",
       "      <td>False</td>\n",
       "    </tr>\n",
       "    <tr>\n",
       "      <th>2572</th>\n",
       "      <td>002572</td>\n",
       "      <td>2572</td>\n",
       "      <td>test_run_two_digitizers</td>\n",
       "      <td>2021-12-16 13:04:04.404</td>\n",
       "      <td>2021-12-16 13:04:09.532</td>\n",
       "      <td></td>\n",
       "      <td>0 days 00:00:05.128000</td>\n",
       "      <td>pending</td>\n",
       "      <td>False</td>\n",
       "    </tr>\n",
       "    <tr>\n",
       "      <th>2573</th>\n",
       "      <td>002573</td>\n",
       "      <td>2573</td>\n",
       "      <td>test_run_two_digitizers</td>\n",
       "      <td>2021-12-16 13:05:04.660</td>\n",
       "      <td>2021-12-16 13:05:09.685</td>\n",
       "      <td></td>\n",
       "      <td>0 days 00:00:05.025000</td>\n",
       "      <td>pending</td>\n",
       "      <td>False</td>\n",
       "    </tr>\n",
       "  </tbody>\n",
       "</table>\n",
       "<p>2574 rows × 9 columns</p>\n",
       "</div>"
      ],
      "text/plain": [
       "        name number                     mode                   start  \\\n",
       "0     000000      0               V1724_Run0 2020-11-23 08:36:02.740   \n",
       "1     000001      1               V1724_Run0 2020-11-24 07:51:24.798   \n",
       "2     000002      2               V1724_Run0 2020-11-24 12:55:19.577   \n",
       "3     000003      3               V1724_Run0 2020-11-24 13:08:10.073   \n",
       "4     000004      4               V1730_Run3 2020-11-24 13:54:39.023   \n",
       "...      ...    ...                      ...                     ...   \n",
       "2569  002569   2569  test_run_two_digitizers 2021-12-16 13:01:03.553   \n",
       "2570  002570   2570  test_run_two_digitizers 2021-12-16 13:02:03.861   \n",
       "2571  002571   2571  test_run_two_digitizers 2021-12-16 13:03:04.114   \n",
       "2572  002572   2572  test_run_two_digitizers 2021-12-16 13:04:04.404   \n",
       "2573  002573   2573  test_run_two_digitizers 2021-12-16 13:05:04.660   \n",
       "\n",
       "                         end tags               livetime processing_status  \\\n",
       "0    2020-11-23 08:36:50.846      0 days 00:00:48.106000               NaN   \n",
       "1    2020-11-24 07:51:36.827      0 days 00:00:12.029000               NaN   \n",
       "2    2020-11-24 12:55:28.594      0 days 00:00:09.017000               NaN   \n",
       "3    2020-11-24 13:08:19.093      0 days 00:00:09.020000               NaN   \n",
       "4    2020-11-24 13:55:00.072      0 days 00:00:21.049000               NaN   \n",
       "...                      ...  ...                    ...               ...   \n",
       "2569 2021-12-16 13:01:11.676      0 days 00:00:08.123000               NaN   \n",
       "2570 2021-12-16 13:02:11.974      0 days 00:00:08.113000               NaN   \n",
       "2571 2021-12-16 13:03:09.134      0 days 00:00:05.020000               NaN   \n",
       "2572 2021-12-16 13:04:09.532      0 days 00:00:05.128000           pending   \n",
       "2573 2021-12-16 13:05:09.685      0 days 00:00:05.025000           pending   \n",
       "\n",
       "      raw_records_v1730_available  \n",
       "0                           False  \n",
       "1                           False  \n",
       "2                           False  \n",
       "3                           False  \n",
       "4                           False  \n",
       "...                           ...  \n",
       "2569                        False  \n",
       "2570                        False  \n",
       "2571                        False  \n",
       "2572                        False  \n",
       "2573                        False  \n",
       "\n",
       "[2574 rows x 9 columns]"
      ]
     },
     "execution_count": 5,
     "metadata": {},
     "output_type": "execute_result"
    }
   ],
   "source": [
    "st.context_config['check_available'] = []\n",
    "st.select_runs()"
   ]
  },
  {
   "cell_type": "code",
   "execution_count": 10,
   "id": "1cc046cd",
   "metadata": {
    "ExecuteTime": {
     "end_time": "2022-01-13T11:37:06.446267Z",
     "start_time": "2022-01-13T11:37:06.443269Z"
    }
   },
   "outputs": [],
   "source": [
    "my_run = '000736'"
   ]
  },
  {
   "cell_type": "code",
   "execution_count": 11,
   "id": "5cbcdc12",
   "metadata": {
    "ExecuteTime": {
     "end_time": "2022-01-13T11:37:06.775680Z",
     "start_time": "2022-01-13T11:37:06.754916Z"
    }
   },
   "outputs": [
    {
     "name": "stdout",
     "output_type": "stream",
     "text": [
      "raw_records_v1730 True\n",
      "raw_records_v1724 True\n"
     ]
    }
   ],
   "source": [
    "for t in 'raw_records_v1730 raw_records_v1724'.split():\n",
    "    print(t, st.is_stored(my_run, t))"
   ]
  },
  {
   "cell_type": "code",
   "execution_count": 30,
   "id": "03fb1019",
   "metadata": {
    "ExecuteTime": {
     "end_time": "2022-01-13T11:41:41.455381Z",
     "start_time": "2022-01-13T11:41:41.437854Z"
    }
   },
   "outputs": [],
   "source": [
    "%run test_plugin/PulseProcessingNew.py"
   ]
  },
  {
   "cell_type": "code",
   "execution_count": 31,
   "id": "c8cad184",
   "metadata": {
    "ExecuteTime": {
     "end_time": "2022-01-13T11:41:41.679450Z",
     "start_time": "2022-01-13T11:41:41.672225Z"
    }
   },
   "outputs": [
    {
     "data": {
      "text/plain": [
       "'somethingelse'"
      ]
     },
     "execution_count": 31,
     "metadata": {},
     "output_type": "execute_result"
    }
   ],
   "source": [
    "PulseProcessing.__version__"
   ]
  },
  {
   "cell_type": "code",
   "execution_count": 32,
   "id": "dfc4588e",
   "metadata": {
    "ExecuteTime": {
     "end_time": "2022-01-13T11:41:41.875931Z",
     "start_time": "2022-01-13T11:41:41.872067Z"
    }
   },
   "outputs": [
    {
     "data": {
      "text/plain": [
       "__main__.PulseProcessing"
      ]
     },
     "execution_count": 32,
     "metadata": {},
     "output_type": "execute_result"
    }
   ],
   "source": [
    "st.register(PulseProcessing)"
   ]
  },
  {
   "cell_type": "code",
   "execution_count": 33,
   "id": "1433b88c",
   "metadata": {
    "ExecuteTime": {
     "end_time": "2022-01-13T11:41:42.081442Z",
     "start_time": "2022-01-13T11:41:42.073872Z"
    }
   },
   "outputs": [
    {
     "data": {
      "text/plain": [
       "{'records_v1724': amstrax.plugins.pulse_processing.PulseProcessing,\n",
       " 'pulse_counts_v1724': amstrax.plugins.pulse_processing.PulseProcessing,\n",
       " 'records_v1730': amstrax.plugins.pulse_processing_fast_sampling.PulseProcessingFastSampling,\n",
       " 'pulse_counts_v1730': amstrax.plugins.pulse_processing_fast_sampling.PulseProcessingFastSampling,\n",
       " 'hits': amstrax.plugins.peak_processing.Hits,\n",
       " 'peaks': amstrax.plugins.peak_processing.Peaks,\n",
       " 'lone_hits': amstrax.plugins.peak_processing.Peaks,\n",
       " 'raw_records_v1724': amstrax.plugins.daqreader.DAQReader,\n",
       " 'raw_records_v1730': amstrax.plugins.daqreader.DAQReader,\n",
       " 'raw_records_aqmon': amstrax.plugins.daqreader.DAQReader,\n",
       " 'records': __main__.PulseProcessing,\n",
       " 'pulse_counts': __main__.PulseProcessing}"
      ]
     },
     "execution_count": 33,
     "metadata": {},
     "output_type": "execute_result"
    }
   ],
   "source": [
    "st._plugin_class_registry"
   ]
  },
  {
   "cell_type": "code",
   "execution_count": 35,
   "id": "de2b64f4",
   "metadata": {
    "ExecuteTime": {
     "end_time": "2022-01-13T11:42:10.976235Z",
     "start_time": "2022-01-13T11:42:10.971636Z"
    }
   },
   "outputs": [
    {
     "data": {
      "text/plain": [
       "[amstrax.rundb.RunDB, readonly: True,\n",
       " strax.storage.files.DataDirectory, readonly: True, path: /data/xenon/xamsl/raw/, take_only: ('raw_records_v1724', 'raw_records_v1730', 'raw_records_aqmon'),\n",
       " strax.storage.files.DataDirectory, readonly: True, path: /data/xenon/xamsl/processed/,\n",
       " strax.storage.files.DataDirectory, path: ./amstrax_data]"
      ]
     },
     "execution_count": 35,
     "metadata": {},
     "output_type": "execute_result"
    }
   ],
   "source": [
    "st.storage"
   ]
  },
  {
   "cell_type": "code",
   "execution_count": 36,
   "id": "b817fe31",
   "metadata": {
    "ExecuteTime": {
     "end_time": "2022-01-13T11:43:05.114384Z",
     "start_time": "2022-01-13T11:42:32.789767Z"
    }
   },
   "outputs": [
    {
     "name": "stdout",
     "output_type": "stream",
     "text": [
      "Removing old incomplete data in ./amstrax_data/000736-pulse_counts-oahcmjphid\n",
      "Removing old incomplete data in ./amstrax_data/000736-records-oahcmjphid\n"
     ]
    },
    {
     "data": {
      "application/vnd.jupyter.widget-view+json": {
       "model_id": "137b88b297f74f889f03667a18c753c0",
       "version_major": 2,
       "version_minor": 0
      },
      "text/plain": [
       "Loading records: |          | 0.00 % [00:00<?]"
      ]
     },
     "metadata": {},
     "output_type": "display_data"
    }
   ],
   "source": [
    "st.make(my_run, 'records', progress_bar = True)"
   ]
  },
  {
   "cell_type": "code",
   "execution_count": null,
   "id": "878574fa",
   "metadata": {},
   "outputs": [],
   "source": []
  }
 ],
 "metadata": {
  "kernelspec": {
   "display_name": "Python 3 (ipykernel)",
   "language": "python",
   "name": "python3"
  },
  "language_info": {
   "codemirror_mode": {
    "name": "ipython",
    "version": 3
   },
   "file_extension": ".py",
   "mimetype": "text/x-python",
   "name": "python",
   "nbconvert_exporter": "python",
   "pygments_lexer": "ipython3",
   "version": "3.8.0"
  }
 },
 "nbformat": 4,
 "nbformat_minor": 5
}
